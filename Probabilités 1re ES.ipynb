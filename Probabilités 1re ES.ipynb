{
 "cells": [
  {
   "cell_type": "code",
   "execution_count": null,
   "metadata": {
    "collapsed": true
   },
   "outputs": [],
   "source": [
    "%matplotlib notebook\n",
    "import matplotlib.pyplot as plt\n",
    "import ipywidgets as widgets\n",
    "from random import randint\n",
    "from IPython.display import display"
   ]
  },
  {
   "cell_type": "code",
   "execution_count": null,
   "metadata": {
    "collapsed": true
   },
   "outputs": [],
   "source": [
    "resultats = [0]*6\n",
    "abscisses = [i+1 for i in range(6)]\n",
    "nb_D6 = 1\n",
    "\n",
    "def changeD6(change):\n",
    "    global nb_D6\n",
    "    nb_D6 = change['new']\n",
    "    bouton.description = \"Tirer \"+str(nb_D6)+\" D6\"\n",
    "txt_nb_D6 = widgets.IntText(value=nb_D6, description='Nb de D6 :', disabled=False)\n",
    "txt_nb_D6.observe(changeD6, names='value')\n",
    "\n",
    "def click(b):\n",
    "    global resultats\n",
    "    resultats = [x + y for x, y in zip(resultats, distrib(tirage(nb_D6)))]\n",
    "    ax.clear()\n",
    "    plt.bar(abscisses, resultats, .75, color=\"blue\")\n",
    "    fig.canvas.draw()\n",
    "    txt_nb_tirages.value = str(sum(resultats))\n",
    "bouton = widgets.Button(description=\"Tirer \"+str(nb_D6)+\" D6\")\n",
    "bouton.on_click(click)\n",
    "\n",
    "txt_nb_tirages = widgets.IntText(value = sum(resultats), description='D6 tirés :')\n",
    "\n",
    "display(widgets.HBox([txt_nb_D6, bouton, txt_nb_tirages]))\n",
    "\n",
    "def tirage(nb=1):\n",
    "    return [randint(1, 6) for _ in range(nb)]\n",
    "    \n",
    "def distrib(serie):\n",
    "    return [serie.count(i+1) for i in range(6)]\n",
    "\n",
    "fig = plt.figure()\n",
    "ax = fig.add_subplot(111)"
   ]
  },
  {
   "cell_type": "code",
   "execution_count": null,
   "metadata": {
    "collapsed": true
   },
   "outputs": [],
   "source": [
    "nb_lancers = sum(resultats)\n",
    "frequences = list(map(lambda x: 100*x / nb_lancers, resultats))\n",
    "\n",
    "fig = plt.figure()\n",
    "ax = fig.add_subplot(111)\n",
    "plt.axis([0.5, 6.5, 0, 20])\n",
    "plt.bar(abscisses, frequences, .75, color=\"red\")\n",
    "fig.canvas.draw()\n"
   ]
  },
  {
   "cell_type": "code",
   "execution_count": null,
   "metadata": {
    "collapsed": true
   },
   "outputs": [],
   "source": [
    "resultats = [0]*11\n",
    "abscisses = [i+2 for i in range(11)]\n",
    "nb_D6 = 1\n",
    "\n",
    "def changeD6(change):\n",
    "    global nb_D6\n",
    "    nb_D6 = change['new']\n",
    "    bouton.description = \"Tirer \"+str(nb_D6)+\" paire(s) D6\"\n",
    "txt_nb_D6 = widgets.IntText(value=nb_D6, description='Nb 2 D6 :', disabled=False)\n",
    "txt_nb_D6.observe(changeD6, names='value')\n",
    "\n",
    "def click(b):\n",
    "    global resultats\n",
    "    resultats = [x + y for x, y in zip(resultats, distrib(tirage(nb_D6)))]\n",
    "    ax.clear()\n",
    "    plt.bar(abscisses, resultats, .75, color=\"blue\")\n",
    "    fig.canvas.draw()\n",
    "    txt_nb_tirages.value = str(sum(resultats))\n",
    "bouton = widgets.Button(description=\"Tirer \"+str(nb_D6)+\" paire(s) D6\")\n",
    "bouton.on_click(click)\n",
    "\n",
    "txt_nb_tirages = widgets.IntText(value = sum(resultats), description='Paires D6 :')\n",
    "\n",
    "display(widgets.HBox([txt_nb_D6, bouton, txt_nb_tirages]))\n",
    "\n",
    "def tirage(nb=1):\n",
    "    return [randint(1, 6)+randint(1,6) for _ in range(nb)]\n",
    "    \n",
    "def distrib(serie):\n",
    "    return [serie.count(i+2) for i in range(11)]\n",
    "\n",
    "fig = plt.figure()\n",
    "ax = fig.add_subplot(111)"
   ]
  },
  {
   "cell_type": "code",
   "execution_count": null,
   "metadata": {
    "collapsed": true
   },
   "outputs": [],
   "source": [
    "nb_lancers = sum(resultats)\n",
    "frequences = list(map(lambda x: 100*x / nb_lancers, resultats))\n",
    "\n",
    "fig = plt.figure()\n",
    "ax = fig.add_subplot(111)\n",
    "plt.axis([1.5, 12.5, 0, 20])\n",
    "plt.bar(abscisses, frequences, .75, color=\"red\")\n",
    "fig.canvas.draw()"
   ]
  },
  {
   "cell_type": "code",
   "execution_count": null,
   "metadata": {},
   "outputs": [],
   "source": [
    "resultats = [0]*6\n",
    "frequences = [0]*6\n",
    "abscisses = [i+1 for i in range(6)]\n",
    "nb_D6 = 1\n",
    "nb_lancers = 0\n",
    "\n",
    "def changeD6(change):\n",
    "    global nb_D6\n",
    "    nb_D6 = change['new']\n",
    "    bouton.description = \"Tirer \"+str(nb_D6)+\" paire(s) D6\"\n",
    "txt_nb_D6 = widgets.IntText(value=nb_D6, description='Nb 2 D6 :', disabled=False)\n",
    "txt_nb_D6.observe(changeD6, names='value')\n",
    "\n",
    "def click(b):\n",
    "    global resultats, nb_lancers\n",
    "    resultats = [x + y for x, y in zip(resultats, distrib(tirage(nb_D6)))]\n",
    "    nb_lancers += nb_D6\n",
    "    frequences = list(map(lambda x: 100*x / nb_lancers, resultats))\n",
    "    ax.clear()\n",
    "    plt.bar(abscisses, frequences, .75, color=\"red\")\n",
    "    fig.canvas.draw()\n",
    "    txt_nb_tirages.value = str(sum(resultats))\n",
    "bouton = widgets.Button(description=\"Tirer \"+str(nb_D6)+\" paire(s) D6\")\n",
    "bouton.on_click(click)\n",
    "\n",
    "txt_nb_tirages = widgets.IntText(value = sum(resultats), description='Paires D6 :')\n",
    "\n",
    "display(widgets.HBox([txt_nb_D6, bouton, txt_nb_tirages]))\n",
    "\n",
    "def tirage(nb=1):\n",
    "    return [max(randint(1, 6),randint(1,6)) for _ in range(nb)]\n",
    "    \n",
    "def distrib(serie):\n",
    "    return [serie.count(i+1) for i in range(6)]\n",
    "\n",
    "fig = plt.figure()\n",
    "ax = fig.add_subplot(111)"
   ]
  },
  {
   "cell_type": "code",
   "execution_count": null,
   "metadata": {
    "collapsed": true
   },
   "outputs": [],
   "source": []
  }
 ],
 "metadata": {
  "kernelspec": {
   "display_name": "Python 3",
   "language": "python",
   "name": "python3"
  },
  "language_info": {
   "codemirror_mode": {
    "name": "ipython",
    "version": 3
   },
   "file_extension": ".py",
   "mimetype": "text/x-python",
   "name": "python",
   "nbconvert_exporter": "python",
   "pygments_lexer": "ipython3",
   "version": "3.6.3"
  }
 },
 "nbformat": 4,
 "nbformat_minor": 2
}
