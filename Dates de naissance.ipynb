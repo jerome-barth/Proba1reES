{
 "cells": [
  {
   "cell_type": "code",
   "execution_count": null,
   "metadata": {},
   "outputs": [],
   "source": [
    "def prob(n):\n",
    "    accumulateur = 1.0\n",
    "    for i in range(n):\n",
    "        accumulateur *= (365-i)/365\n",
    "    return 1 - accumulateur\n",
    "\n",
    "for i in range(36):\n",
    "    print(\"Pour\", i+1, \"personnes, il y a\", round(prob(i+1)*100,1), \"% de chances qu'au moins 2 soient nées le même jour\")"
   ]
  }
 ],
 "metadata": {
  "kernelspec": {
   "display_name": "Python 3",
   "language": "python",
   "name": "python3"
  },
  "language_info": {
   "codemirror_mode": {
    "name": "ipython",
    "version": 3
   },
   "file_extension": ".py",
   "mimetype": "text/x-python",
   "name": "python",
   "nbconvert_exporter": "python",
   "pygments_lexer": "ipython3",
   "version": "3.5.3"
  }
 },
 "nbformat": 4,
 "nbformat_minor": 2
}
