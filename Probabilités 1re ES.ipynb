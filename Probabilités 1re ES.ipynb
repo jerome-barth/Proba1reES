{
 "cells": [
  {
   "cell_type": "code",
   "execution_count": null,
   "metadata": {
    "collapsed": true
   },
   "outputs": [],
   "source": [
    "%matplotlib notebook\n",
    "import matplotlib.pyplot as plt\n",
    "import ipywidgets as widgets\n",
    "from random import randint\n",
    "from IPython.display import display"
   ]
  },
  {
   "cell_type": "code",
   "execution_count": null,
   "metadata": {},
   "outputs": [],
   "source": [
    "issues    = [1, 2, 3, 4, 5, 6]  # les issues possibles (xi)\n",
    "effectifs = [0, 0, 0, 0, 0, 0]  # un compteur pour chaque issue (ni)\n",
    "\n",
    "list(zip(issues, effectifs))"
   ]
  },
  {
   "cell_type": "code",
   "execution_count": null,
   "metadata": {},
   "outputs": [],
   "source": [
    "# fonction qui permet le tirage aléatoire de 'nb' dés\n",
    "def tirage(nb):\n",
    "    liste_tirages = []  # liste vide\n",
    "    for i in range(nb):\n",
    "        liste_tirages = liste_tirages + [ randint(1, 6) ]  # on ajoute un élément\n",
    "        # randint(min, max) renvoie un entier aléatoire entre min et max inclus\n",
    "    return liste_tirages\n",
    "\n",
    "print(tirage(10))"
   ]
  },
  {
   "cell_type": "code",
   "execution_count": null,
   "metadata": {
    "scrolled": true
   },
   "outputs": [],
   "source": [
    "# fonction qui permet de compter les occurrences de chaque issue dans 'serie'\n",
    "def distrib(serie):\n",
    "    ni = [0, 0, 0, 0, 0, 0] # effectif de chaque issue\n",
    "    for xi in serie:\n",
    "        ni[xi-1] = ni[xi-1] + 1  # les index commencent à zéro en python\n",
    "    return ni\n",
    "\n",
    "print(distrib([1, 1, 1, 2, 2, 5, 6, 6]))       # pour voir l'effet de 'distrib'\n",
    "list(zip(issues, distrib([1, 1, 1, 3, 4, 5, 5, 6]))) # pour voir les couples (issue, effectif)"
   ]
  },
  {
   "cell_type": "code",
   "execution_count": null,
   "metadata": {},
   "outputs": [],
   "source": [
    "# en combinant les deux, on obtient directement les effectifs correspondants au tirage\n",
    "effectifs = distrib(tirage(10))\n",
    "print(\"Voici la répartition du tirage de 10 dés cubiques :\", effectifs)\n",
    "for i in range(6):\n",
    "    print(\"La face\", issues[i], \"est sortie\", effectifs[i], \"fois\")\n"
   ]
  },
  {
   "cell_type": "code",
   "execution_count": null,
   "metadata": {},
   "outputs": [],
   "source": [
    "effectifs = [0]*6  # réinitialisation des compteurs\n",
    "nb_D6 = 1          # nombre de dés 6 à lancer lorsque l'on clique le bouton\n",
    "\n",
    "# fonction qui enregistre les changements du nb de dés à lancer\n",
    "def changeD6(change):\n",
    "    global nb_D6    # nécessaire pour pouvoir modifier la variable globalement\n",
    "    nb_D6 = change['new']\n",
    "    bouton.description = \"Tirer \"+str(nb_D6)+\" D6\"\n",
    "\n",
    "# fonction qui s'exécute lorsque le bouton est cliqué\n",
    "def click(b):\n",
    "    global effectifs\n",
    "    serie = tirage(nb_D6)\n",
    "    repartition = distrib(serie)\n",
    "    for i in range(6):\n",
    "        effectifs[i] = effectifs[i] + repartition[i]\n",
    "    ### partie pour tracer le diagramme\n",
    "    plt.bar(issues, effectifs, 0.75, color=\"blue\")\n",
    "    ax.set_xlabel('Issues')\n",
    "    ax.set_ylabel('Effectifs')\n",
    "    fig.canvas.draw()\n",
    "    txt_nb_tirages.value = sum(effectifs)  # on met à jour le nombre de tirages\n",
    "    \n",
    "### Création de l'interface\n",
    "# boîte nb de dés\n",
    "txt_nb_D6 = widgets.IntText(value=nb_D6, description='Nb de D6 :', disabled=False)\n",
    "txt_nb_D6.observe(changeD6, names='value')\n",
    "# bouton pour les lancers\n",
    "bouton = widgets.Button(description=\"Tirer \"+str(nb_D6)+\" D6\")\n",
    "bouton.on_click(click)\n",
    "# affichage du nb de lancers total\n",
    "txt_nb_tirages = widgets.IntText(value = sum(effectifs), description='D6 tirés :')\n",
    "# mise en forme\n",
    "display(widgets.HBox([txt_nb_D6, bouton, txt_nb_tirages]))\n",
    "### déclaration du diagramme\n",
    "fig = plt.figure()\n",
    "ax = fig.add_subplot(111)\n"
   ]
  },
  {
   "cell_type": "code",
   "execution_count": null,
   "metadata": {},
   "outputs": [],
   "source": [
    "nb_lancers = sum(effectifs)\n",
    "frequences = list(map(lambda x: 100*x / nb_lancers, effectifs))\n",
    "\n",
    "fig = plt.figure()\n",
    "ax = fig.add_subplot(111)\n",
    "ax.set_xlabel('Issues')\n",
    "ax.set_ylabel('Proportion en %')\n",
    "plt.axis([0.5, 6.5, 0, 20])\n",
    "plt.bar(issues, frequences, .75, color=\"red\")\n",
    "rectangles = ax.patches\n",
    "for rect, pourcent in zip(rectangles, frequences):\n",
    "    hauteur = rect.get_height()\n",
    "    ax.text(rect.get_x() + rect.get_width()/2, hauteur, round(pourcent, 1) , ha='center', va='bottom')\n",
    "fig.canvas.draw()\n"
   ]
  },
  {
   "cell_type": "code",
   "execution_count": null,
   "metadata": {
    "collapsed": true
   },
   "outputs": [],
   "source": [
    "resultats = [0]*11\n",
    "abscisses = [i+2 for i in range(11)]\n",
    "nb_D6 = 1\n",
    "\n",
    "def changeD6(change):\n",
    "    global nb_D6\n",
    "    nb_D6 = change['new']\n",
    "    bouton.description = \"Tirer \"+str(nb_D6)+\" paire(s) D6\"\n",
    "txt_nb_D6 = widgets.IntText(value=nb_D6, description='Nb 2 D6 :', disabled=False)\n",
    "txt_nb_D6.observe(changeD6, names='value')\n",
    "\n",
    "def click(b):\n",
    "    global resultats\n",
    "    resultats = [x + y for x, y in zip(resultats, distrib(tirage(nb_D6)))]\n",
    "    ax.clear()\n",
    "    plt.bar(abscisses, resultats, .75, color=\"blue\")\n",
    "    fig.canvas.draw()\n",
    "    txt_nb_tirages.value = str(sum(resultats))\n",
    "bouton = widgets.Button(description=\"Tirer \"+str(nb_D6)+\" paire(s) D6\")\n",
    "bouton.on_click(click)\n",
    "\n",
    "txt_nb_tirages = widgets.IntText(value = sum(resultats), description='Paires D6 :')\n",
    "\n",
    "display(widgets.HBox([txt_nb_D6, bouton, txt_nb_tirages]))\n",
    "\n",
    "def tirage(nb=1):\n",
    "    return [randint(1, 6)+randint(1,6) for _ in range(nb)]\n",
    "    \n",
    "def distrib(serie):\n",
    "    return [serie.count(i+2) for i in range(11)]\n",
    "\n",
    "fig = plt.figure()\n",
    "ax = fig.add_subplot(111)"
   ]
  },
  {
   "cell_type": "code",
   "execution_count": null,
   "metadata": {
    "collapsed": true
   },
   "outputs": [],
   "source": [
    "nb_lancers = sum(resultats)\n",
    "frequences = list(map(lambda x: 100*x / nb_lancers, resultats))\n",
    "\n",
    "fig = plt.figure()\n",
    "ax = fig.add_subplot(111)\n",
    "plt.axis([1.5, 12.5, 0, 20])\n",
    "plt.bar(abscisses, frequences, .75, color=\"red\")\n",
    "fig.canvas.draw()"
   ]
  },
  {
   "cell_type": "code",
   "execution_count": null,
   "metadata": {
    "collapsed": true
   },
   "outputs": [],
   "source": [
    "resultats = [0]*6\n",
    "frequences = [0]*6\n",
    "abscisses = [i+1 for i in range(6)]\n",
    "nb_D6 = 1\n",
    "nb_lancers = 0\n",
    "\n",
    "def changeD6(change):\n",
    "    global nb_D6\n",
    "    nb_D6 = change['new']\n",
    "    bouton.description = \"Tirer \"+str(nb_D6)+\" paire(s) D6\"\n",
    "txt_nb_D6 = widgets.IntText(value=nb_D6, description='Nb 2 D6 :', disabled=False)\n",
    "txt_nb_D6.observe(changeD6, names='value')\n",
    "\n",
    "def click(b):\n",
    "    global resultats, nb_lancers\n",
    "    resultats = [x + y for x, y in zip(resultats, distrib(tirage(nb_D6)))]\n",
    "    nb_lancers += nb_D6\n",
    "    frequences = list(map(lambda x: 100*x / nb_lancers, resultats))\n",
    "    ax.clear()\n",
    "    plt.bar(abscisses, frequences, .75, color=\"red\")\n",
    "    fig.canvas.draw()\n",
    "    txt_nb_tirages.value = str(sum(resultats))\n",
    "bouton = widgets.Button(description=\"Tirer \"+str(nb_D6)+\" paire(s) D6\")\n",
    "bouton.on_click(click)\n",
    "\n",
    "txt_nb_tirages = widgets.IntText(value = sum(resultats), description='Paires D6 :')\n",
    "\n",
    "display(widgets.HBox([txt_nb_D6, bouton, txt_nb_tirages]))\n",
    "\n",
    "def tirage(nb=1):\n",
    "    return [max(randint(1, 6),randint(1,6)) for _ in range(nb)]\n",
    "    \n",
    "def distrib(serie):\n",
    "    return [serie.count(i+1) for i in range(6)]\n",
    "\n",
    "fig = plt.figure()\n",
    "ax = fig.add_subplot(111)"
   ]
  },
  {
   "cell_type": "code",
   "execution_count": null,
   "metadata": {
    "collapsed": true
   },
   "outputs": [],
   "source": []
  }
 ],
 "metadata": {
  "kernelspec": {
   "display_name": "Python 3",
   "language": "python",
   "name": "python3"
  },
  "language_info": {
   "codemirror_mode": {
    "name": "ipython",
    "version": 3
   },
   "file_extension": ".py",
   "mimetype": "text/x-python",
   "name": "python",
   "nbconvert_exporter": "python",
   "pygments_lexer": "ipython3",
   "version": "3.6.3"
  }
 },
 "nbformat": 4,
 "nbformat_minor": 2
}
