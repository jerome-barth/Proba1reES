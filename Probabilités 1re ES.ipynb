{
 "cells": [
  {
   "cell_type": "markdown",
   "metadata": {},
   "source": [
    "# Simuler une situation où le hasard joue un rôle\n",
    "Dans cette partie nous allons nous intéresser au lancer d'un dé ordinaire (6 faces numérotées de 1 à 6) et on utilisera la notation D6 pour y faire référence.\n",
    "![un dé cubique (D6)](images/d6.jpg)\n",
    "\n",
    "\n",
    "\n",
    "**L'idée** est d'étudier les fréquences d'apparition de chaque face après avoir exécuté l'expérience un très grand nombre de fois.\n",
    "![une pile de D6](images/bcp-d6.jpg)"
   ]
  },
  {
   "cell_type": "markdown",
   "metadata": {},
   "source": [
    "---\n",
    "\n",
    "On va utiliser python pour simuler un lancer de D6, puis représenter graphiquement les résultats.\n",
    "\n",
    "Commençons par importer les modules d'affichage"
   ]
  },
  {
   "cell_type": "code",
   "execution_count": null,
   "metadata": {
    "collapsed": true
   },
   "outputs": [],
   "source": [
    "%matplotlib notebook\n",
    "import matplotlib.pyplot as plt\n",
    "import ipywidgets as widgets\n",
    "from IPython.display import display"
   ]
  },
  {
   "cell_type": "markdown",
   "metadata": {},
   "source": [
    "Il faut pouvoir tirer un nombre au hasard, importons la fonction randint (random veut dire aléatoire en anglais)."
   ]
  },
  {
   "cell_type": "code",
   "execution_count": null,
   "metadata": {
    "collapsed": true
   },
   "outputs": [],
   "source": [
    "from random import randint"
   ]
  },
  {
   "cell_type": "markdown",
   "metadata": {},
   "source": [
    "Pour enregistrer nos résultats nous aurons besoin de listes :"
   ]
  },
  {
   "cell_type": "code",
   "execution_count": null,
   "metadata": {},
   "outputs": [],
   "source": [
    "issues    = [1, 2, 3, 4, 5, 6]  # les issues possibles (xi)\n",
    "effectifs = [0, 0, 0, 0, 0, 0]  # un compteur pour chaque issue (ni)\n",
    "\n",
    "list(zip(issues, effectifs))"
   ]
  },
  {
   "cell_type": "markdown",
   "metadata": {},
   "source": [
    "L'instruction **`zip`** a permis de fabriquer des couples.\n",
    "\n",
    "Il nous faut maintenant générer des nombres aléatoires entre 1 et 6 :"
   ]
  },
  {
   "cell_type": "code",
   "execution_count": null,
   "metadata": {
    "scrolled": true
   },
   "outputs": [],
   "source": [
    "randint(1, 6)"
   ]
  },
  {
   "cell_type": "markdown",
   "metadata": {},
   "source": [
    "L'appel à la fonction **`randint(`**_min_**`, `**_max_**`)`** permet d'obtenir aléatoirement un nombre entre *min* et *max* (inclus).\n",
    "\n",
    "---\n",
    "\n",
    "Pour plus de commodités, définissons une fonction qui tire plusieurs D6 et renvoie de ces tirages :"
   ]
  },
  {
   "cell_type": "code",
   "execution_count": null,
   "metadata": {},
   "outputs": [],
   "source": [
    "# fonction qui permet le tirage aléatoire de 'nb' dés\n",
    "def tirage(nb):\n",
    "    liste_tirages = []  # liste vide\n",
    "    for i in range(nb):\n",
    "        liste_tirages = liste_tirages + [ randint(1, 6) ]  # on ajoute un élément\n",
    "    return liste_tirages\n",
    "\n",
    "serie_test = tirage(10)\n",
    "print(serie_test)"
   ]
  },
  {
   "cell_type": "markdown",
   "metadata": {},
   "source": [
    "Maintenant que l'on peut facilement effectuer de nombreux tirages, il faut que l'on calcule le nombre de fois que chaque face est sortie (les effectifs).\n",
    "\n",
    "Regardons comment compter les occurences de 6 :"
   ]
  },
  {
   "cell_type": "code",
   "execution_count": null,
   "metadata": {},
   "outputs": [],
   "source": [
    "compteur = 0\n",
    "for d6 in serie_test:\n",
    "    if d6 == 6:\n",
    "        compteur = compteur + 1\n",
    "print(\"Il y a\", compteur, \"fois le nombre 6\")"
   ]
  },
  {
   "cell_type": "markdown",
   "metadata": {},
   "source": [
    "On pourrait faire un test pour chaque face mais cela se révèlerait coûteux en calcul.\n",
    "\n",
    "L'idée est d'utiliser directement la liste **`effectifs`**.\n",
    "\n",
    "En python, les listes sont indexée à partir de 0\n",
    ">```python\n",
    "liste = [ \"un\", \"deux\", \"trois\" ]\n",
    "print(liste[0])\n",
    "print(liste[1])\n",
    "print(liste[2])\n",
    "```\n",
    "\n",
    "Affiche :\n",
    ">```python\n",
    "un\n",
    "deux\n",
    "trois\n",
    "```\n",
    "\n",
    "Notre index varie donc de **0 à 5** et non de 1 à 6."
   ]
  },
  {
   "cell_type": "code",
   "execution_count": null,
   "metadata": {},
   "outputs": [],
   "source": [
    "effectifs = [0, 0, 0, 0, 0, 0]\n",
    "for d6 in serie_test:\n",
    "    print(effectifs)\n",
    "    print(d6, \"-> on augmente l'élément\", d6 - 1, \"de la liste des effectifs\")\n",
    "    effectifs[d6 - 1] = effectifs[d6 - 1] + 1\n",
    "    print(effectifs, '\\n---')\n",
    "\n",
    "print(\"\\nLes effectifs de la série\", serie_test, \"sont:\", effectifs)"
   ]
  },
  {
   "cell_type": "markdown",
   "metadata": {},
   "source": [
    "**En mettant les données en couple :**"
   ]
  },
  {
   "cell_type": "code",
   "execution_count": null,
   "metadata": {},
   "outputs": [],
   "source": [
    "list(zip(issues, effectifs))"
   ]
  },
  {
   "cell_type": "markdown",
   "metadata": {},
   "source": [
    "**Combinons nos résultats :**\n",
    "\n",
    "Pour de grands tirages (comme 1 000 000 D6), il vaut mieux directement remplir la liste des effectifs et ne pas garder en mémoire la série des tirage.<br>On range le dé dans la bonne case directement..."
   ]
  },
  {
   "cell_type": "code",
   "execution_count": null,
   "metadata": {},
   "outputs": [],
   "source": [
    "def distrib_tirage(nb):\n",
    "    effs = [0, 0, 0, 0, 0, 0]      # initialisation\n",
    "    for _ in range(nb):            # le compteur n'est pas utilisé dans la boucle, '_' permet de ne gagner en vitesse\n",
    "        effs[randint(0,5)] += 1    # ici, l'opérateur += permet d'incrémenter la bonne case\n",
    "    return effs\n",
    "\n",
    "effectifs_test = distrib_tirage(10)\n",
    "print(effectifs_test)"
   ]
  },
  {
   "cell_type": "code",
   "execution_count": null,
   "metadata": {},
   "outputs": [],
   "source": [
    "experience = list(zip(issues, effectifs_test))\n",
    "print(\"Voici la répartition du tirage de 10 D6 :\", experience)\n",
    "for i in range(6):\n",
    "    print(\"La face\", issues[i], \"est sortie\", effectifs_test[i], \"fois\")\n"
   ]
  },
  {
   "cell_type": "markdown",
   "metadata": {},
   "source": [
    "Testons la performance :"
   ]
  },
  {
   "cell_type": "code",
   "execution_count": null,
   "metadata": {},
   "outputs": [],
   "source": [
    "print(\"Tirage de 1 000 D6 :\")\n",
    "%time distrib_tirage(1000)\n",
    "\n",
    "print(\"Tirage de 10 000 D6 :\")\n",
    "%time distrib_tirage(10**4)\n",
    "\n",
    "print(\"Tirage de 100 000 D6 :\")\n",
    "%time distrib_tirage(10**5)\n",
    "\n",
    "print(\"---\\nTest plus poussé en cours...\")\n",
    "%timeit distrib_tirage(1000)"
   ]
  },
  {
   "cell_type": "markdown",
   "metadata": {},
   "source": [
    "La performance est acceptable pour notre propos.\n",
    "\n",
    "Passons à la partie interactive.\n",
    "\n",
    "## Simulation des tirages"
   ]
  },
  {
   "cell_type": "code",
   "execution_count": null,
   "metadata": {},
   "outputs": [],
   "source": [
    "effectifs = [0]*6  # réinitialisation des compteurs\n",
    "nb_D6 = 1          # nombre de dés 6 à lancer lorsque l'on clique le bouton\n",
    "\n",
    "# déclaration du diagramme   \n",
    "fig = plt.figure()\n",
    "ax = fig.add_subplot(111)\n",
    "\n",
    "%run -i diagramme.py"
   ]
  },
  {
   "cell_type": "markdown",
   "metadata": {},
   "source": [
    "Pour mieux comprendre le tirage effectué, calculons les fréquences (en %) :"
   ]
  },
  {
   "cell_type": "code",
   "execution_count": null,
   "metadata": {},
   "outputs": [],
   "source": [
    "nb_lancers = sum(effectifs)\n",
    "frequences = list(map(lambda x: 100*x / nb_lancers, effectifs))\n",
    "\n",
    "fig = plt.figure()\n",
    "%run -i freq.py"
   ]
  },
  {
   "cell_type": "markdown",
   "metadata": {},
   "source": [
    "Les fréquences obtenues se rapprochent d'une valeur théorique que l'on appelle *probabilité*.<br>\n",
    "Cela permet d'évaluer les chances qu'un événement se réalise lorsque l'on effectue une expérience aléatoire.\n",
    "\n",
    "Dans cette expérience, chaque face a été réalisée pour environ $\\frac{1}{6}$ des lancers. C'est une situation d'équiprobabilité.\n",
    "\n",
    "| Face |Probabilité associée|\n",
    "|:----:|:------------------:|\n",
    "|1|$\\frac{1}{6}$|\n",
    "|2|$\\frac{1}{6}$|\n",
    "|3|$\\frac{1}{6}$|\n",
    "|4|$\\frac{1}{6}$|\n",
    "|5|$\\frac{1}{6}$|\n",
    "|6|$\\frac{1}{6}$|\n",
    "\n",
    "\n",
    "# Probabilités\n",
    "\n",
    "## Quelques rappels de vocabulaire :\n",
    "1. **expérience aléatoire** : le résultat n'est pas prévisible à l'avance mais on sait décrire toutes les éventualités.\n",
    "1. **issue** : un des résultats possibles.\n",
    "1. **univers** : ensemble de toutes les issues. On le note souvent $\\Omega$.\n",
    "1. **événement** : ensemble d'issues (souvent décrit par une expression).\n",
    "\n",
    "## Définir une loi de probabilité\n",
    "Une loi de probabilité sur $\\Omega=\\bigl\\{x_1 ; x_2 ; ... ; x_k \\bigr\\}$ consiste :\n",
    "* À définir pour chaque issue $x_i \\in \\Omega$, sa probabilité $p_i$ avec $0 \\leqslant p_i \\leqslant 1$.\n",
    "* À vérifier que $p_1+p_2+...+p_k=1$ ; c'est-à-dire $\\sum p_i = 1$.\n",
    "\n",
    "La probabilité d'un événement est alors la somme des probabilités de chaque issue de cet événement.\n",
    "\n",
    "\n",
    "---\n",
    "Dans l'expérience de lancer de dé, l'univers $\\Omega=\\bigl\\{1 ; 2 ; 3 ; 4 ; 5 ; 6\\bigr\\}$, à chaque issue $i$ on associe $p_i=\\frac{1}{6}$.<br>\n",
    "On a bien : $\\sum p_i=\\frac{1}{6}+\\frac{1}{6}+\\frac{1}{6}+\\frac{1}{6}+\\frac{1}{6}+\\frac{1}{6}=\\frac{6}{6}=1$.\n",
    "\n",
    "L'événement $A$ : « **Obtenir un nombre impair** » correspond aux issues 1, 3 et 5. sa probabilité est donc :\n",
    "$$\\textrm{P}(A)=p_1 + p_3 + p_5 = \\frac{3}{6}=\\frac{1}{2}$$\n",
    "L'événement contraire $\\overline{A}$ contient toutes les autres issues et se traduit par : « **Obtenir un nombre pair** ».<br>\n",
    "Sa probabilité est : $$\\textrm{P}\\left(\\overline{A}\\right)=1-\\textrm{P}(A)=1-\\frac{1}{2}=\\frac{1}{2}$$\n",
    "\n",
    "---"
   ]
  },
  {
   "cell_type": "markdown",
   "metadata": {},
   "source": [
    "# Expérience avec 2 D6\n",
    "\n",
    "On lance simultanément deux D6 et on note leur somme.<br>\n",
    "Prendre la somme consiste à utiliser une fonction qui renvoie un nombre entre 2 et 12.<br>\n",
    "Lorsque l'on va modéliser cette expérience, on parlera de variable aléatoire."
   ]
  },
  {
   "cell_type": "code",
   "execution_count": null,
   "metadata": {},
   "outputs": [],
   "source": [
    "resultats2d6 = [0]*11\n",
    "issues2d6 = [i+2 for i in range(11)]\n",
    "nb_D6 = 10\n",
    "\n",
    "fig = plt.figure()\n",
    "ax = fig.add_subplot(111)\n",
    "\n",
    "%run -i diag2d6.py"
   ]
  },
  {
   "cell_type": "code",
   "execution_count": null,
   "metadata": {},
   "outputs": [],
   "source": [
    "nb_lancers2d6 = sum(resultats2d6)\n",
    "frequences2d6 = list(map(lambda x: 100*x / nb_lancers2d6, resultats2d6))\n",
    "\n",
    "fig = plt.figure()\n",
    "%run -i freq2d6.py"
   ]
  },
  {
   "cell_type": "markdown",
   "metadata": {},
   "source": [
    "On voit que la distribution n'est pas uniforme cette fois ci.\n",
    "\n",
    "Les résultats sont proches de la distribution suivante :\n",
    "\n",
    "| Somme |Probabilité associée|\n",
    "|:----:|:------------------:|\n",
    "|2|$\\frac{1}{36}$|\n",
    "|3|$\\frac{2}{36}=\\frac{1}{18}$|\n",
    "|4|$\\frac{3}{36}=\\frac{1}{12}$|\n",
    "|5|$\\frac{4}{36}=\\frac{1}{9}$|\n",
    "|6|$\\frac{5}{36}$|\n",
    "|7|$\\frac{6}{36}=\\frac{1}{6}$|\n",
    "|8|$\\frac{5}{36}$|\n",
    "|9|$\\frac{4}{36}=\\frac{1}{9}$|\n",
    "|10|$\\frac{3}{36}=\\frac{1}{12}$|\n",
    "|11|$\\frac{2}{36}=\\frac{1}{18}$|\n",
    "|12|$\\frac{1}{36}$|\n"
   ]
  },
  {
   "cell_type": "markdown",
   "metadata": {},
   "source": [
    "Pour justifier ce genre de résultats, nous allons introduire la notion de **variable aléatoire**."
   ]
  }
 ],
 "metadata": {
  "kernelspec": {
   "display_name": "Python 3",
   "language": "python",
   "name": "python3"
  },
  "language_info": {
   "codemirror_mode": {
    "name": "ipython",
    "version": 3
   },
   "file_extension": ".py",
   "mimetype": "text/x-python",
   "name": "python",
   "nbconvert_exporter": "python",
   "pygments_lexer": "ipython3",
   "version": "3.6.3"
  }
 },
 "nbformat": 4,
 "nbformat_minor": 2
}
